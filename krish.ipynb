{
 "cells": [
  {
   "cell_type": "markdown",
   "metadata": {},
   "source": [
    "### Stock Market Prediction And Forecasting Using Stacked LSTM"
   ]
  },
  {
   "cell_type": "code",
   "execution_count": null,
   "metadata": {},
   "outputs": [],
   "source": [
    "### Keras and Tensorflow >2.0"
   ]
  },
  {
   "cell_type": "code",
   "execution_count": 403,
   "metadata": {},
   "outputs": [],
   "source": [
    "### Data Collection\n",
    "import pandas_datareader as pdr\n",
    "key=\"\""
   ]
  },
  {
   "cell_type": "code",
   "execution_count": 404,
   "metadata": {},
   "outputs": [],
   "source": [
    "df = pdr.get_data_tiingo('AAPL', api_key=key)"
   ]
  },
  {
   "cell_type": "code",
   "execution_count": 283,
   "metadata": {},
   "outputs": [],
   "source": [
    "df.to_csv('AAPL.csv')"
   ]
  },
  {
   "cell_type": "code",
   "execution_count": 405,
   "metadata": {},
   "outputs": [],
   "source": [
    "import pandas as pd"
   ]
  },
  {
   "cell_type": "code",
   "execution_count": 406,
   "metadata": {},
   "outputs": [],
   "source": [
    "df=pd.read_csv('AAPL.csv')"
   ]
  },
  {
   "cell_type": "code",
   "execution_count": 93,
   "metadata": {},
   "outputs": [],
   "source": [
    "import math\n",
    "import pandas_datareader as web\n",
    "import numpy as np\n",
    "import pandas as pd\n",
    "from sklearn.preprocessing import MinMaxScaler\n",
    "from keras.models import Sequential\n",
    "from keras.layers import Dense, LSTM\n",
    "import matplotlib.pyplot as plt"
   ]
  },
  {
   "cell_type": "code",
   "execution_count": 183,
   "metadata": {},
   "outputs": [],
   "source": [
    "df = web.DataReader('ITC.NS', data_source='yahoo', start='2012-01-01', end='2022-05-01')"
   ]
  },
  {
   "cell_type": "code",
   "execution_count": 185,
   "metadata": {},
   "outputs": [
    {
     "data": {
      "text/html": [
       "<div>\n",
       "<style scoped>\n",
       "    .dataframe tbody tr th:only-of-type {\n",
       "        vertical-align: middle;\n",
       "    }\n",
       "\n",
       "    .dataframe tbody tr th {\n",
       "        vertical-align: top;\n",
       "    }\n",
       "\n",
       "    .dataframe thead th {\n",
       "        text-align: right;\n",
       "    }\n",
       "</style>\n",
       "<table border=\"1\" class=\"dataframe\">\n",
       "  <thead>\n",
       "    <tr style=\"text-align: right;\">\n",
       "      <th></th>\n",
       "      <th>High</th>\n",
       "      <th>Low</th>\n",
       "      <th>Open</th>\n",
       "      <th>Close</th>\n",
       "      <th>Volume</th>\n",
       "      <th>Adj Close</th>\n",
       "    </tr>\n",
       "    <tr>\n",
       "      <th>Date</th>\n",
       "      <th></th>\n",
       "      <th></th>\n",
       "      <th></th>\n",
       "      <th></th>\n",
       "      <th></th>\n",
       "      <th></th>\n",
       "    </tr>\n",
       "  </thead>\n",
       "  <tbody>\n",
       "    <tr>\n",
       "      <th>2012-01-02</th>\n",
       "      <td>134.566666</td>\n",
       "      <td>131.933334</td>\n",
       "      <td>134.566666</td>\n",
       "      <td>132.433334</td>\n",
       "      <td>2860839.0</td>\n",
       "      <td>102.725311</td>\n",
       "    </tr>\n",
       "    <tr>\n",
       "      <th>2012-01-03</th>\n",
       "      <td>134.366669</td>\n",
       "      <td>132.866669</td>\n",
       "      <td>133.233337</td>\n",
       "      <td>133.566666</td>\n",
       "      <td>6065590.0</td>\n",
       "      <td>103.604393</td>\n",
       "    </tr>\n",
       "    <tr>\n",
       "      <th>2012-01-04</th>\n",
       "      <td>134.466660</td>\n",
       "      <td>132.333328</td>\n",
       "      <td>134.333328</td>\n",
       "      <td>133.033340</td>\n",
       "      <td>11875083.0</td>\n",
       "      <td>103.190727</td>\n",
       "    </tr>\n",
       "    <tr>\n",
       "      <th>2012-01-05</th>\n",
       "      <td>133.333328</td>\n",
       "      <td>131.733337</td>\n",
       "      <td>132.699997</td>\n",
       "      <td>133.199997</td>\n",
       "      <td>11364489.0</td>\n",
       "      <td>103.319984</td>\n",
       "    </tr>\n",
       "    <tr>\n",
       "      <th>2012-01-06</th>\n",
       "      <td>135.399994</td>\n",
       "      <td>132.233337</td>\n",
       "      <td>132.699997</td>\n",
       "      <td>134.733337</td>\n",
       "      <td>8788212.0</td>\n",
       "      <td>104.509361</td>\n",
       "    </tr>\n",
       "  </tbody>\n",
       "</table>\n",
       "</div>"
      ],
      "text/plain": [
       "                  High         Low        Open       Close      Volume  \\\n",
       "Date                                                                     \n",
       "2012-01-02  134.566666  131.933334  134.566666  132.433334   2860839.0   \n",
       "2012-01-03  134.366669  132.866669  133.233337  133.566666   6065590.0   \n",
       "2012-01-04  134.466660  132.333328  134.333328  133.033340  11875083.0   \n",
       "2012-01-05  133.333328  131.733337  132.699997  133.199997  11364489.0   \n",
       "2012-01-06  135.399994  132.233337  132.699997  134.733337   8788212.0   \n",
       "\n",
       "             Adj Close  \n",
       "Date                    \n",
       "2012-01-02  102.725311  \n",
       "2012-01-03  103.604393  \n",
       "2012-01-04  103.190727  \n",
       "2012-01-05  103.319984  \n",
       "2012-01-06  104.509361  "
      ]
     },
     "execution_count": 185,
     "metadata": {},
     "output_type": "execute_result"
    }
   ],
   "source": [
    "df.head()"
   ]
  },
  {
   "cell_type": "code",
   "execution_count": 186,
   "metadata": {},
   "outputs": [
    {
     "data": {
      "text/html": [
       "<div>\n",
       "<style scoped>\n",
       "    .dataframe tbody tr th:only-of-type {\n",
       "        vertical-align: middle;\n",
       "    }\n",
       "\n",
       "    .dataframe tbody tr th {\n",
       "        vertical-align: top;\n",
       "    }\n",
       "\n",
       "    .dataframe thead th {\n",
       "        text-align: right;\n",
       "    }\n",
       "</style>\n",
       "<table border=\"1\" class=\"dataframe\">\n",
       "  <thead>\n",
       "    <tr style=\"text-align: right;\">\n",
       "      <th></th>\n",
       "      <th>High</th>\n",
       "      <th>Low</th>\n",
       "      <th>Open</th>\n",
       "      <th>Close</th>\n",
       "      <th>Volume</th>\n",
       "      <th>Adj Close</th>\n",
       "    </tr>\n",
       "    <tr>\n",
       "      <th>Date</th>\n",
       "      <th></th>\n",
       "      <th></th>\n",
       "      <th></th>\n",
       "      <th></th>\n",
       "      <th></th>\n",
       "      <th></th>\n",
       "    </tr>\n",
       "  </thead>\n",
       "  <tbody>\n",
       "    <tr>\n",
       "      <th>2022-04-25</th>\n",
       "      <td>259.000000</td>\n",
       "      <td>252.500000</td>\n",
       "      <td>258.799988</td>\n",
       "      <td>255.250000</td>\n",
       "      <td>24208645.0</td>\n",
       "      <td>255.250000</td>\n",
       "    </tr>\n",
       "    <tr>\n",
       "      <th>2022-04-26</th>\n",
       "      <td>260.700012</td>\n",
       "      <td>256.250000</td>\n",
       "      <td>256.600006</td>\n",
       "      <td>258.950012</td>\n",
       "      <td>20536714.0</td>\n",
       "      <td>258.950012</td>\n",
       "    </tr>\n",
       "    <tr>\n",
       "      <th>2022-04-27</th>\n",
       "      <td>258.500000</td>\n",
       "      <td>255.750000</td>\n",
       "      <td>256.200012</td>\n",
       "      <td>257.500000</td>\n",
       "      <td>16580824.0</td>\n",
       "      <td>257.500000</td>\n",
       "    </tr>\n",
       "    <tr>\n",
       "      <th>2022-04-28</th>\n",
       "      <td>263.700012</td>\n",
       "      <td>258.149994</td>\n",
       "      <td>259.500000</td>\n",
       "      <td>261.100006</td>\n",
       "      <td>27924384.0</td>\n",
       "      <td>261.100006</td>\n",
       "    </tr>\n",
       "    <tr>\n",
       "      <th>2022-04-29</th>\n",
       "      <td>263.000000</td>\n",
       "      <td>258.500000</td>\n",
       "      <td>263.000000</td>\n",
       "      <td>259.549988</td>\n",
       "      <td>20419904.0</td>\n",
       "      <td>259.549988</td>\n",
       "    </tr>\n",
       "  </tbody>\n",
       "</table>\n",
       "</div>"
      ],
      "text/plain": [
       "                  High         Low        Open       Close      Volume  \\\n",
       "Date                                                                     \n",
       "2022-04-25  259.000000  252.500000  258.799988  255.250000  24208645.0   \n",
       "2022-04-26  260.700012  256.250000  256.600006  258.950012  20536714.0   \n",
       "2022-04-27  258.500000  255.750000  256.200012  257.500000  16580824.0   \n",
       "2022-04-28  263.700012  258.149994  259.500000  261.100006  27924384.0   \n",
       "2022-04-29  263.000000  258.500000  263.000000  259.549988  20419904.0   \n",
       "\n",
       "             Adj Close  \n",
       "Date                    \n",
       "2022-04-25  255.250000  \n",
       "2022-04-26  258.950012  \n",
       "2022-04-27  257.500000  \n",
       "2022-04-28  261.100006  \n",
       "2022-04-29  259.549988  "
      ]
     },
     "execution_count": 186,
     "metadata": {},
     "output_type": "execute_result"
    }
   ],
   "source": [
    "df.tail()"
   ]
  },
  {
   "cell_type": "code",
   "execution_count": 187,
   "metadata": {},
   "outputs": [],
   "source": [
    "df1=df.reset_index()['Close']"
   ]
  },
  {
   "cell_type": "code",
   "execution_count": 188,
   "metadata": {},
   "outputs": [
    {
     "data": {
      "text/plain": [
       "0       132.433334\n",
       "1       133.566666\n",
       "2       133.033340\n",
       "3       133.199997\n",
       "4       134.733337\n",
       "           ...    \n",
       "2540    255.250000\n",
       "2541    258.950012\n",
       "2542    257.500000\n",
       "2543    261.100006\n",
       "2544    259.549988\n",
       "Name: Close, Length: 2545, dtype: float64"
      ]
     },
     "execution_count": 188,
     "metadata": {},
     "output_type": "execute_result"
    }
   ],
   "source": [
    "df1"
   ]
  },
  {
   "cell_type": "code",
   "execution_count": 189,
   "metadata": {},
   "outputs": [
    {
     "data": {
      "text/plain": [
       "[<matplotlib.lines.Line2D at 0x1b8ce929df0>]"
      ]
     },
     "execution_count": 189,
     "metadata": {},
     "output_type": "execute_result"
    },
    {
     "data": {
      "image/png": "[encoded data removed]",
      "text/plain": [
       "<Figure size 432x288 with 1 Axes>"
      ]
     },
     "metadata": {
      "needs_background": "light"
     },
     "output_type": "display_data"
    }
   ],
   "source": [
    "import matplotlib.pyplot as plt\n",
    "plt.plot(df1)"
   ]
  },
  {
   "cell_type": "code",
   "execution_count": 190,
   "metadata": {},
   "outputs": [],
   "source": [
    "### LSTM are sensitive to the scale of the data. so we apply MinMax scaler "
   ]
  },
  {
   "cell_type": "code",
   "execution_count": 191,
   "metadata": {},
   "outputs": [],
   "source": [
    "import numpy as np"
   ]
  },
  {
   "cell_type": "code",
   "execution_count": 192,
   "metadata": {},
   "outputs": [
    {
     "data": {
      "text/plain": [
       "0       132.433334\n",
       "1       133.566666\n",
       "2       133.033340\n",
       "3       133.199997\n",
       "4       134.733337\n",
       "           ...    \n",
       "2540    255.250000\n",
       "2541    258.950012\n",
       "2542    257.500000\n",
       "2543    261.100006\n",
       "2544    259.549988\n",
       "Name: Close, Length: 2545, dtype: float64"
      ]
     },
     "execution_count": 192,
     "metadata": {},
     "output_type": "execute_result"
    }
   ],
   "source": [
    "df1"
   ]
  },
  {
   "cell_type": "code",
   "execution_count": 193,
   "metadata": {},
   "outputs": [],
   "source": [
    "from sklearn.preprocessing import MinMaxScaler\n",
    "scaler=MinMaxScaler(feature_range=(0,1))\n",
    "df1=scaler.fit_transform(np.array(df1).reshape(-1,1))"
   ]
  },
  {
   "cell_type": "code",
   "execution_count": 194,
   "metadata": {},
   "outputs": [
    {
     "name": "stdout",
     "output_type": "stream",
     "text": [
      "[[0.        ]\n",
      " [0.0053951 ]\n",
      " [0.00285627]\n",
      " ...\n",
      " [0.59536655]\n",
      " [0.61250399]\n",
      " [0.6051253 ]]\n"
     ]
    }
   ],
   "source": [
    "print(df1)"
   ]
  },
  {
   "cell_type": "code",
   "execution_count": 195,
   "metadata": {},
   "outputs": [],
   "source": [
    "##splitting dataset into train and test split\n",
    "training_size=int(len(df1)*0.75)\n",
    "test_size=len(df1)-training_size\n",
    "train_data,test_data=df1[0:training_size,:],df1[training_size:len(df1),:1]"
   ]
  },
  {
   "cell_type": "code",
   "execution_count": 196,
   "metadata": {},
   "outputs": [
    {
     "data": {
      "text/plain": [
       "(1908, 637)"
      ]
     },
     "execution_count": 196,
     "metadata": {},
     "output_type": "execute_result"
    }
   ],
   "source": [
    "training_size,test_size"
   ]
  },
  {
   "cell_type": "code",
   "execution_count": 197,
   "metadata": {},
   "outputs": [
    {
     "data": {
      "text/plain": [
       "array([[0.        ],\n",
       "       [0.0053951 ],\n",
       "       [0.00285627],\n",
       "       ...,\n",
       "       [0.58774989],\n",
       "       [0.61512215],\n",
       "       [0.59417645]])"
      ]
     },
     "execution_count": 197,
     "metadata": {},
     "output_type": "execute_result"
    }
   ],
   "source": [
    "train_data"
   ]
  },
  {
   "cell_type": "code",
   "execution_count": 198,
   "metadata": {},
   "outputs": [],
   "source": [
    "import numpy\n",
    "# convert an array of values into a dataset matrix\n",
    "def create_dataset(dataset, time_step=1):\n",
    "\tdataX, dataY = [], []\n",
    "\tfor i in range(len(dataset)-time_step-1):\n",
    "\t\ta = dataset[i:(i+time_step), 0]   ###i=0, 0,1,2,3-----99   100 \n",
    "\t\tdataX.append(a)\n",
    "\t\tdataY.append(dataset[i + time_step, 0])\n",
    "\treturn numpy.array(dataX), numpy.array(dataY)"
   ]
  },
  {
   "cell_type": "code",
   "execution_count": 199,
   "metadata": {},
   "outputs": [],
   "source": [
    "# reshape into X=t,t+1,t+2,t+3 and Y=t+4\n",
    "time_step = 60\n",
    "X_train, y_train = create_dataset(train_data, time_step)\n",
    "X_test, ytest = create_dataset(test_data, time_step)"
   ]
  },
  {
   "cell_type": "code",
   "execution_count": 200,
   "metadata": {},
   "outputs": [
    {
     "name": "stdout",
     "output_type": "stream",
     "text": [
      "(1847, 60)\n",
      "(1847,)\n"
     ]
    },
    {
     "data": {
      "text/plain": [
       "(None, None)"
      ]
     },
     "execution_count": 200,
     "metadata": {},
     "output_type": "execute_result"
    }
   ],
   "source": [
    "print(X_train.shape), print(y_train.shape)"
   ]
  },
  {
   "cell_type": "code",
   "execution_count": 201,
   "metadata": {},
   "outputs": [
    {
     "name": "stdout",
     "output_type": "stream",
     "text": [
      "(576, 60)\n",
      "(576,)\n"
     ]
    },
    {
     "data": {
      "text/plain": [
       "(None, None)"
      ]
     },
     "execution_count": 201,
     "metadata": {},
     "output_type": "execute_result"
    }
   ],
   "source": [
    "print(X_test.shape), print(ytest.shape)"
   ]
  },
  {
   "cell_type": "code",
   "execution_count": 202,
   "metadata": {},
   "outputs": [],
   "source": [
    "# reshape input to be [samples, time steps, features] which is required for LSTM\n",
    "X_train =X_train.reshape(X_train.shape[0],X_train.shape[1] , 1)\n",
    "X_test = X_test.reshape(X_test.shape[0],X_test.shape[1] , 1)"
   ]
  },
  {
   "cell_type": "code",
   "execution_count": 203,
   "metadata": {},
   "outputs": [],
   "source": [
    "### Create the Stacked LSTM model\n",
    "from tensorflow.keras.models import Sequential\n",
    "from tensorflow.keras.layers import Dense\n",
    "from tensorflow.keras.layers import LSTM"
   ]
  },
  {
   "cell_type": "code",
   "execution_count": 204,
   "metadata": {},
   "outputs": [],
   "source": [
    "model=Sequential()\n",
    "model.add(LSTM(50,return_sequences=True,input_shape=(60,1)))\n",
    "model.add(LSTM(50,return_sequences=True))\n",
    "model.add(LSTM(50))\n",
    "model.add(Dense(1))\n",
    "model.compile(loss='mean_squared_error',optimizer='adam')\n"
   ]
  },
  {
   "cell_type": "code",
   "execution_count": 205,
   "metadata": {},
   "outputs": [
    {
     "name": "stdout",
     "output_type": "stream",
     "text": [
      "Model: \"sequential_5\"\n",
      "_________________________________________________________________\n",
      " Layer (type)                Output Shape              Param #   \n",
      "=================================================================\n",
      " lstm_15 (LSTM)              (None, 60, 50)            10400     \n",
      "                                                                 \n",
      " lstm_16 (LSTM)              (None, 60, 50)            20200     \n",
      "                                                                 \n",
      " lstm_17 (LSTM)              (None, 50)                20200     \n",
      "                                                                 \n",
      " dense_5 (Dense)             (None, 1)                 51        \n",
      "                                                                 \n",
      "=================================================================\n",
      "Total params: 50,851\n",
      "Trainable params: 50,851\n",
      "Non-trainable params: 0\n",
      "_________________________________________________________________\n"
     ]
    }
   ],
   "source": [
    "model.summary()"
   ]
  },
  {
   "cell_type": "code",
   "execution_count": 206,
   "metadata": {},
   "outputs": [
    {
     "name": "stdout",
     "output_type": "stream",
     "text": [
      "Model: \"sequential_5\"\n",
      "_________________________________________________________________\n",
      " Layer (type)                Output Shape              Param #   \n",
      "=================================================================\n",
      " lstm_15 (LSTM)              (None, 60, 50)            10400     \n",
      "                                                                 \n",
      " lstm_16 (LSTM)              (None, 60, 50)            20200     \n",
      "                                                                 \n",
      " lstm_17 (LSTM)              (None, 50)                20200     \n",
      "                                                                 \n",
      " dense_5 (Dense)             (None, 1)                 51        \n",
      "                                                                 \n",
      "=================================================================\n",
      "Total params: 50,851\n",
      "Trainable params: 50,851\n",
      "Non-trainable params: 0\n",
      "_________________________________________________________________\n"
     ]
    }
   ],
   "source": [
    "model.summary()"
   ]
  },
  {
   "cell_type": "code",
   "execution_count": null,
   "metadata": {},
   "outputs": [],
   "source": []
  },
  {
   "cell_type": "code",
   "execution_count": 207,
   "metadata": {},
   "outputs": [
    {
     "name": "stdout",
     "output_type": "stream",
     "text": [
      "Epoch 1/100\n",
      "29/29 [==============================] - 9s 141ms/step - loss: 0.0421 - val_loss: 0.0082\n",
      "Epoch 2/100\n",
      "29/29 [==============================] - 3s 102ms/step - loss: 0.0039 - val_loss: 0.0042\n",
      "Epoch 3/100\n",
      "29/29 [==============================] - 3s 102ms/step - loss: 0.0023 - val_loss: 0.0032\n",
      "Epoch 4/100\n",
      "29/29 [==============================] - 3s 101ms/step - loss: 0.0021 - val_loss: 0.0033\n",
      "Epoch 5/100\n",
      "29/29 [==============================] - 3s 101ms/step - loss: 0.0021 - val_loss: 0.0031\n",
      "Epoch 6/100\n",
      "29/29 [==============================] - 3s 101ms/step - loss: 0.0020 - val_loss: 0.0031\n",
      "Epoch 7/100\n",
      "29/29 [==============================] - 3s 101ms/step - loss: 0.0021 - val_loss: 0.0029\n",
      "Epoch 8/100\n",
      "29/29 [==============================] - 3s 101ms/step - loss: 0.0019 - val_loss: 0.0029\n",
      "Epoch 9/100\n",
      "29/29 [==============================] - 3s 102ms/step - loss: 0.0019 - val_loss: 0.0028\n",
      "Epoch 10/100\n",
      "29/29 [==============================] - 3s 101ms/step - loss: 0.0018 - val_loss: 0.0027\n",
      "Epoch 11/100\n",
      "29/29 [==============================] - 3s 101ms/step - loss: 0.0018 - val_loss: 0.0026\n",
      "Epoch 12/100\n",
      "29/29 [==============================] - 3s 102ms/step - loss: 0.0018 - val_loss: 0.0026\n",
      "Epoch 13/100\n",
      "29/29 [==============================] - 3s 103ms/step - loss: 0.0017 - val_loss: 0.0025\n",
      "Epoch 14/100\n",
      "29/29 [==============================] - 3s 103ms/step - loss: 0.0016 - val_loss: 0.0024\n",
      "Epoch 15/100\n",
      "29/29 [==============================] - 3s 101ms/step - loss: 0.0016 - val_loss: 0.0025\n",
      "Epoch 16/100\n",
      "29/29 [==============================] - 3s 101ms/step - loss: 0.0016 - val_loss: 0.0023\n",
      "Epoch 17/100\n",
      "29/29 [==============================] - 3s 101ms/step - loss: 0.0016 - val_loss: 0.0023\n",
      "Epoch 18/100\n",
      "29/29 [==============================] - 3s 101ms/step - loss: 0.0015 - val_loss: 0.0023\n",
      "Epoch 19/100\n",
      "29/29 [==============================] - 3s 104ms/step - loss: 0.0014 - val_loss: 0.0022\n",
      "Epoch 20/100\n",
      "29/29 [==============================] - 3s 108ms/step - loss: 0.0014 - val_loss: 0.0020\n",
      "Epoch 21/100\n",
      "29/29 [==============================] - 3s 103ms/step - loss: 0.0014 - val_loss: 0.0020\n",
      "Epoch 22/100\n",
      "29/29 [==============================] - 3s 101ms/step - loss: 0.0013 - val_loss: 0.0019\n",
      "Epoch 23/100\n",
      "29/29 [==============================] - 3s 102ms/step - loss: 0.0012 - val_loss: 0.0019\n",
      "Epoch 24/100\n",
      "29/29 [==============================] - 3s 102ms/step - loss: 0.0012 - val_loss: 0.0019\n",
      "Epoch 25/100\n",
      "29/29 [==============================] - 3s 103ms/step - loss: 0.0012 - val_loss: 0.0018\n",
      "Epoch 26/100\n",
      "29/29 [==============================] - 3s 102ms/step - loss: 0.0011 - val_loss: 0.0017\n",
      "Epoch 27/100\n",
      "29/29 [==============================] - 3s 103ms/step - loss: 0.0012 - val_loss: 0.0018\n",
      "Epoch 28/100\n",
      "29/29 [==============================] - 3s 102ms/step - loss: 0.0010 - val_loss: 0.0017\n",
      "Epoch 29/100\n",
      "29/29 [==============================] - 3s 103ms/step - loss: 0.0010 - val_loss: 0.0016\n",
      "Epoch 30/100\n",
      "29/29 [==============================] - 3s 103ms/step - loss: 9.9651e-04 - val_loss: 0.0016\n",
      "Epoch 31/100\n",
      "29/29 [==============================] - 3s 103ms/step - loss: 0.0010 - val_loss: 0.0015\n",
      "Epoch 32/100\n",
      "29/29 [==============================] - 3s 104ms/step - loss: 0.0011 - val_loss: 0.0017\n",
      "Epoch 33/100\n",
      "29/29 [==============================] - 3s 102ms/step - loss: 9.7117e-04 - val_loss: 0.0015\n",
      "Epoch 34/100\n",
      "29/29 [==============================] - 3s 103ms/step - loss: 9.2533e-04 - val_loss: 0.0014\n",
      "Epoch 35/100\n",
      "29/29 [==============================] - 3s 102ms/step - loss: 9.2131e-04 - val_loss: 0.0014\n",
      "Epoch 36/100\n",
      "29/29 [==============================] - 3s 103ms/step - loss: 9.1486e-04 - val_loss: 0.0013\n",
      "Epoch 37/100\n",
      "29/29 [==============================] - 3s 103ms/step - loss: 8.7800e-04 - val_loss: 0.0014\n",
      "Epoch 38/100\n",
      "29/29 [==============================] - 3s 103ms/step - loss: 9.5324e-04 - val_loss: 0.0015\n",
      "Epoch 39/100\n",
      "29/29 [==============================] - 3s 103ms/step - loss: 8.4718e-04 - val_loss: 0.0014\n",
      "Epoch 40/100\n",
      "29/29 [==============================] - 3s 103ms/step - loss: 8.1040e-04 - val_loss: 0.0012\n",
      "Epoch 41/100\n",
      "29/29 [==============================] - 3s 103ms/step - loss: 7.9081e-04 - val_loss: 0.0013\n",
      "Epoch 42/100\n",
      "29/29 [==============================] - 3s 106ms/step - loss: 8.2060e-04 - val_loss: 0.0012\n",
      "Epoch 43/100\n",
      "29/29 [==============================] - 3s 116ms/step - loss: 7.4294e-04 - val_loss: 0.0011\n",
      "Epoch 44/100\n",
      "29/29 [==============================] - 3s 103ms/step - loss: 7.8588e-04 - val_loss: 0.0011\n",
      "Epoch 45/100\n",
      "29/29 [==============================] - 3s 103ms/step - loss: 8.0646e-04 - val_loss: 0.0011\n",
      "Epoch 46/100\n",
      "29/29 [==============================] - 3s 103ms/step - loss: 7.6662e-04 - val_loss: 0.0013\n",
      "Epoch 47/100\n",
      "29/29 [==============================] - 3s 103ms/step - loss: 7.5643e-04 - val_loss: 0.0010\n",
      "Epoch 48/100\n",
      "29/29 [==============================] - 3s 103ms/step - loss: 6.7855e-04 - val_loss: 0.0010\n",
      "Epoch 49/100\n",
      "29/29 [==============================] - 3s 103ms/step - loss: 6.5212e-04 - val_loss: 9.9055e-04\n",
      "Epoch 50/100\n",
      "29/29 [==============================] - 3s 103ms/step - loss: 6.5248e-04 - val_loss: 0.0010\n",
      "Epoch 51/100\n",
      "29/29 [==============================] - 3s 104ms/step - loss: 6.1444e-04 - val_loss: 9.5593e-04\n",
      "Epoch 52/100\n",
      "29/29 [==============================] - 3s 103ms/step - loss: 6.6149e-04 - val_loss: 9.0459e-04\n",
      "Epoch 53/100\n",
      "29/29 [==============================] - 3s 104ms/step - loss: 6.4844e-04 - val_loss: 9.3236e-04\n",
      "Epoch 54/100\n",
      "29/29 [==============================] - 3s 119ms/step - loss: 6.8375e-04 - val_loss: 9.2337e-04\n",
      "Epoch 55/100\n",
      "29/29 [==============================] - 3s 108ms/step - loss: 5.7237e-04 - val_loss: 8.6437e-04\n",
      "Epoch 56/100\n",
      "29/29 [==============================] - 3s 118ms/step - loss: 5.6536e-04 - val_loss: 9.7293e-04\n",
      "Epoch 57/100\n",
      "29/29 [==============================] - 3s 105ms/step - loss: 5.9453e-04 - val_loss: 8.0140e-04\n",
      "Epoch 58/100\n",
      "29/29 [==============================] - 3s 104ms/step - loss: 5.3078e-04 - val_loss: 7.8908e-04\n",
      "Epoch 59/100\n",
      "29/29 [==============================] - 3s 103ms/step - loss: 6.4850e-04 - val_loss: 0.0012\n",
      "Epoch 60/100\n",
      "29/29 [==============================] - 3s 103ms/step - loss: 6.6345e-04 - val_loss: 7.9794e-04\n",
      "Epoch 61/100\n",
      "29/29 [==============================] - 3s 104ms/step - loss: 5.6074e-04 - val_loss: 8.5142e-04\n",
      "Epoch 62/100\n",
      "29/29 [==============================] - 3s 103ms/step - loss: 6.0617e-04 - val_loss: 7.7218e-04\n",
      "Epoch 63/100\n",
      "29/29 [==============================] - 3s 103ms/step - loss: 5.1333e-04 - val_loss: 7.7342e-04\n",
      "Epoch 64/100\n",
      "29/29 [==============================] - 3s 104ms/step - loss: 5.4161e-04 - val_loss: 7.2314e-04\n",
      "Epoch 65/100\n",
      "29/29 [==============================] - 3s 105ms/step - loss: 5.6020e-04 - val_loss: 6.9901e-04\n",
      "Epoch 66/100\n",
      "29/29 [==============================] - 3s 104ms/step - loss: 4.9368e-04 - val_loss: 7.3115e-04\n",
      "Epoch 67/100\n",
      "29/29 [==============================] - 3s 111ms/step - loss: 5.2108e-04 - val_loss: 6.6801e-04\n",
      "Epoch 68/100\n",
      "29/29 [==============================] - 3s 108ms/step - loss: 5.0784e-04 - val_loss: 6.9976e-04\n",
      "Epoch 69/100\n",
      "29/29 [==============================] - 3s 104ms/step - loss: 5.4630e-04 - val_loss: 6.5738e-04\n",
      "Epoch 70/100\n",
      "29/29 [==============================] - 3s 104ms/step - loss: 5.2382e-04 - val_loss: 6.7920e-04\n",
      "Epoch 71/100\n",
      "29/29 [==============================] - 3s 104ms/step - loss: 4.4971e-04 - val_loss: 6.3108e-04\n",
      "Epoch 72/100\n",
      "29/29 [==============================] - 3s 104ms/step - loss: 4.4755e-04 - val_loss: 6.1636e-04\n",
      "Epoch 73/100\n",
      "29/29 [==============================] - 3s 103ms/step - loss: 4.4590e-04 - val_loss: 6.6817e-04\n",
      "Epoch 74/100\n",
      "29/29 [==============================] - 3s 104ms/step - loss: 4.2162e-04 - val_loss: 5.8934e-04\n",
      "Epoch 75/100\n",
      "29/29 [==============================] - 3s 103ms/step - loss: 4.6152e-04 - val_loss: 6.0598e-04\n",
      "Epoch 76/100\n",
      "29/29 [==============================] - 3s 108ms/step - loss: 3.9411e-04 - val_loss: 5.8321e-04\n",
      "Epoch 77/100\n",
      "29/29 [==============================] - 4s 123ms/step - loss: 5.1183e-04 - val_loss: 6.4263e-04\n",
      "Epoch 78/100\n"
     ]
    },
    {
     "name": "stdout",
     "output_type": "stream",
     "text": [
      "29/29 [==============================] - 3s 102ms/step - loss: 4.9546e-04 - val_loss: 5.7779e-04\n",
      "Epoch 79/100\n",
      "29/29 [==============================] - 3s 101ms/step - loss: 4.2062e-04 - val_loss: 5.6183e-04\n",
      "Epoch 80/100\n",
      "29/29 [==============================] - 3s 102ms/step - loss: 4.4684e-04 - val_loss: 5.7069e-04\n",
      "Epoch 81/100\n",
      "29/29 [==============================] - 3s 101ms/step - loss: 3.8718e-04 - val_loss: 5.4047e-04\n",
      "Epoch 82/100\n",
      "29/29 [==============================] - 3s 104ms/step - loss: 3.7340e-04 - val_loss: 5.2602e-04\n",
      "Epoch 83/100\n",
      "29/29 [==============================] - 3s 102ms/step - loss: 4.1889e-04 - val_loss: 5.7998e-04\n",
      "Epoch 84/100\n",
      "29/29 [==============================] - 3s 102ms/step - loss: 3.6344e-04 - val_loss: 5.2743e-04\n",
      "Epoch 85/100\n",
      "29/29 [==============================] - 3s 106ms/step - loss: 3.8459e-04 - val_loss: 5.0941e-04\n",
      "Epoch 86/100\n",
      "29/29 [==============================] - 3s 102ms/step - loss: 3.6525e-04 - val_loss: 5.1940e-04\n",
      "Epoch 87/100\n",
      "29/29 [==============================] - 3s 103ms/step - loss: 4.0536e-04 - val_loss: 5.6415e-04\n",
      "Epoch 88/100\n",
      "29/29 [==============================] - 3s 102ms/step - loss: 3.8729e-04 - val_loss: 5.4781e-04\n",
      "Epoch 89/100\n",
      "29/29 [==============================] - 3s 106ms/step - loss: 3.7956e-04 - val_loss: 5.1246e-04\n",
      "Epoch 90/100\n",
      "29/29 [==============================] - 3s 104ms/step - loss: 4.0065e-04 - val_loss: 5.0405e-04\n",
      "Epoch 91/100\n",
      "29/29 [==============================] - 3s 103ms/step - loss: 4.1212e-04 - val_loss: 5.0335e-04\n",
      "Epoch 92/100\n",
      "29/29 [==============================] - 3s 105ms/step - loss: 4.1588e-04 - val_loss: 4.9744e-04\n",
      "Epoch 93/100\n",
      "29/29 [==============================] - 3s 108ms/step - loss: 3.9464e-04 - val_loss: 5.6305e-04\n",
      "Epoch 94/100\n",
      "29/29 [==============================] - 3s 102ms/step - loss: 3.6537e-04 - val_loss: 4.8375e-04\n",
      "Epoch 95/100\n",
      "29/29 [==============================] - 3s 103ms/step - loss: 3.6245e-04 - val_loss: 5.2593e-04\n",
      "Epoch 96/100\n",
      "29/29 [==============================] - 3s 105ms/step - loss: 3.9934e-04 - val_loss: 4.9683e-04\n",
      "Epoch 97/100\n",
      "29/29 [==============================] - 3s 104ms/step - loss: 3.4524e-04 - val_loss: 4.7629e-04\n",
      "Epoch 98/100\n",
      "29/29 [==============================] - 3s 104ms/step - loss: 3.4863e-04 - val_loss: 5.7335e-04\n",
      "Epoch 99/100\n",
      "29/29 [==============================] - 3s 103ms/step - loss: 3.9058e-04 - val_loss: 5.2485e-04\n",
      "Epoch 100/100\n",
      "29/29 [==============================] - 3s 104ms/step - loss: 4.1195e-04 - val_loss: 5.0886e-04\n"
     ]
    },
    {
     "data": {
      "text/plain": [
       "<keras.callbacks.History at 0x1b8ce9ca760>"
      ]
     },
     "execution_count": 207,
     "metadata": {},
     "output_type": "execute_result"
    }
   ],
   "source": [
    "model.fit(X_train,y_train,validation_data=(X_test,ytest),epochs=100,batch_size=64,verbose=1)"
   ]
  },
  {
   "cell_type": "code",
   "execution_count": 208,
   "metadata": {},
   "outputs": [
    {
     "data": {
      "text/plain": [
       "[<matplotlib.lines.Line2D at 0x1b8c236ad90>]"
      ]
     },
     "execution_count": 208,
     "metadata": {},
     "output_type": "execute_result"
    },
    {
     "data": {
      "image/png": "[encoded data removed]",
      "text/plain": [
       "<Figure size 432x288 with 1 Axes>"
      ]
     },
     "metadata": {
      "needs_background": "light"
     },
     "output_type": "display_data"
    }
   ],
   "source": [
    "loss = model.history.history['loss']\n",
    "plt.plot(loss)"
   ]
  },
  {
   "cell_type": "code",
   "execution_count": 209,
   "metadata": {},
   "outputs": [],
   "source": [
    "import tensorflow as tf"
   ]
  },
  {
   "cell_type": "code",
   "execution_count": 210,
   "metadata": {},
   "outputs": [
    {
     "data": {
      "text/plain": [
       "'2.8.0'"
      ]
     },
     "execution_count": 210,
     "metadata": {},
     "output_type": "execute_result"
    }
   ],
   "source": [
    "tf.__version__"
   ]
  },
  {
   "cell_type": "code",
   "execution_count": 211,
   "metadata": {},
   "outputs": [],
   "source": [
    "### Lets Do the prediction and check performance metrics\n",
    "train_predict=model.predict(X_train)\n",
    "test_predict=model.predict(X_test)"
   ]
  },
  {
   "cell_type": "code",
   "execution_count": 212,
   "metadata": {},
   "outputs": [],
   "source": [
    "##Transformback to original form\n",
    "train_predict=scaler.inverse_transform(train_predict)\n",
    "test_predict=scaler.inverse_transform(test_predict)"
   ]
  },
  {
   "cell_type": "code",
   "execution_count": 213,
   "metadata": {},
   "outputs": [
    {
     "data": {
      "text/plain": [
       "242.43651328179098"
      ]
     },
     "execution_count": 213,
     "metadata": {},
     "output_type": "execute_result"
    }
   ],
   "source": [
    "### Calculate RMSE performance metrics\n",
    "import math\n",
    "from sklearn.metrics import mean_squared_error\n",
    "math.sqrt(mean_squared_error(y_train,train_predict))"
   ]
  },
  {
   "cell_type": "code",
   "execution_count": 214,
   "metadata": {},
   "outputs": [
    {
     "data": {
      "text/plain": [
       "210.26084458690417"
      ]
     },
     "execution_count": 214,
     "metadata": {},
     "output_type": "execute_result"
    }
   ],
   "source": [
    "### Test Data RMSE\n",
    "math.sqrt(mean_squared_error(ytest,test_predict))"
   ]
  },
  {
   "cell_type": "code",
   "execution_count": 215,
   "metadata": {},
   "outputs": [
    {
     "data": {
      "image/png": "[encoded data removed]",
      "text/plain": [
       "<Figure size 432x288 with 1 Axes>"
      ]
     },
     "metadata": {
      "needs_background": "light"
     },
     "output_type": "display_data"
    }
   ],
   "source": [
    "### Plotting \n",
    "# shift train predictions for plotting\n",
    "look_back=60\n",
    "trainPredictPlot = numpy.empty_like(df1)\n",
    "trainPredictPlot[:, :] = np.nan\n",
    "trainPredictPlot[look_back:len(train_predict)+look_back, :] = train_predict\n",
    "# shift test predictions for plotting\n",
    "testPredictPlot = numpy.empty_like(df1)\n",
    "testPredictPlot[:, :] = numpy.nan\n",
    "testPredictPlot[len(train_predict)+(look_back*2)+1:len(df1)-1, :] = test_predict\n",
    "# plot baseline and predictions\n",
    "plt.plot(scaler.inverse_transform(df1))\n",
    "plt.plot(trainPredictPlot)\n",
    "plt.plot(testPredictPlot)\n",
    "plt.show()"
   ]
  },
  {
   "cell_type": "code",
   "execution_count": 216,
   "metadata": {},
   "outputs": [
    {
     "data": {
      "text/plain": [
       "637"
      ]
     },
     "execution_count": 216,
     "metadata": {},
     "output_type": "execute_result"
    }
   ],
   "source": [
    "len(test_data)"
   ]
  },
  {
   "cell_type": "code",
   "execution_count": 217,
   "metadata": {},
   "outputs": [
    {
     "data": {
      "text/plain": [
       "(1, 60)"
      ]
     },
     "execution_count": 217,
     "metadata": {},
     "output_type": "execute_result"
    }
   ],
   "source": [
    "x_input=test_data[577:].reshape(1,-1)\n",
    "x_input.shape\n"
   ]
  },
  {
   "cell_type": "code",
   "execution_count": null,
   "metadata": {},
   "outputs": [],
   "source": []
  },
  {
   "cell_type": "code",
   "execution_count": null,
   "metadata": {},
   "outputs": [],
   "source": []
  },
  {
   "cell_type": "code",
   "execution_count": 218,
   "metadata": {},
   "outputs": [],
   "source": [
    "temp_input=list(x_input)\n",
    "temp_input=temp_input[0].tolist()"
   ]
  },
  {
   "cell_type": "code",
   "execution_count": 219,
   "metadata": {},
   "outputs": [
    {
     "data": {
      "text/plain": [
       "[0.45374484026176065,\n",
       " 0.4746905428218594,\n",
       " 0.485639462511937,\n",
       " 0.48492543253473597,\n",
       " 0.4654077899290393,\n",
       " 0.47040621768297053,\n",
       " 0.4651697557240252,\n",
       " 0.47516661123188764,\n",
       " 0.4761186754141028,\n",
       " 0.4142335592781804,\n",
       " 0.43113297090440417,\n",
       " 0.4299428725171749,\n",
       " 0.4294668041071469,\n",
       " 0.42589650894545905,\n",
       " 0.4073310031598186,\n",
       " 0.39233579253586626,\n",
       " 0.3975721818569703,\n",
       " 0.3621072644451061,\n",
       " 0.3880513947591361,\n",
       " 0.39709618608478336,\n",
       " 0.3944779551053107,\n",
       " 0.4139955250731663,\n",
       " 0.44303395477669716,\n",
       " 0.4404157237972245,\n",
       " 0.4496984766900446,\n",
       " 0.4608854305851363,\n",
       " 0.47397651284465836,\n",
       " 0.4946842538375843,\n",
       " 0.5072992676870781,\n",
       " 0.50182484416096,\n",
       " 0.5244367135183162,\n",
       " 0.5353855605705528,\n",
       " 0.5334814322061222,\n",
       " 0.5584734983379372,\n",
       " 0.5691843838230007,\n",
       " 0.5827515344925508,\n",
       " 0.5756109441691751,\n",
       " 0.5932243131347593,\n",
       " 0.5815614361053215,\n",
       " 0.5558552673584646,\n",
       " 0.5627578234768261,\n",
       " 0.5753729099641612,\n",
       " 0.5856077270391965,\n",
       " 0.604649373872706,\n",
       " 0.6053634038499073,\n",
       " 0.591320184770329,\n",
       " 0.6443985437856184,\n",
       " 0.6429704838312161,\n",
       " 0.6301173631388669,\n",
       " 0.6527292324962234,\n",
       " 0.6553475361135369,\n",
       " 0.6146460841048863,\n",
       " 0.6051252970070521,\n",
       " 0.6091716605787681,\n",
       " 0.6125039941732829,\n",
       " 0.5846556628569813,\n",
       " 0.6022691770982475,\n",
       " 0.5953665483420448,\n",
       " 0.6125039941732829,\n",
       " 0.6051252970070521]"
      ]
     },
     "execution_count": 219,
     "metadata": {},
     "output_type": "execute_result"
    }
   ],
   "source": [
    "temp_input"
   ]
  },
  {
   "cell_type": "code",
   "execution_count": 220,
   "metadata": {},
   "outputs": [
    {
     "name": "stdout",
     "output_type": "stream",
     "text": [
      "[0.60831857]\n",
      "61\n",
      "1 day input [0.47469054 0.48563946 0.48492543 0.46540779 0.47040622 0.46516976\n",
      " 0.47516661 0.47611868 0.41423356 0.43113297 0.42994287 0.4294668\n",
      " 0.42589651 0.407331   0.39233579 0.39757218 0.36210726 0.38805139\n",
      " 0.39709619 0.39447796 0.41399553 0.44303395 0.44041572 0.44969848\n",
      " 0.46088543 0.47397651 0.49468425 0.50729927 0.50182484 0.52443671\n",
      " 0.53538556 0.53348143 0.5584735  0.56918438 0.58275153 0.57561094\n",
      " 0.59322431 0.58156144 0.55585527 0.56275782 0.57537291 0.58560773\n",
      " 0.60464937 0.6053634  0.59132018 0.64439854 0.64297048 0.63011736\n",
      " 0.65272923 0.65534754 0.61464608 0.6051253  0.60917166 0.61250399\n",
      " 0.58465566 0.60226918 0.59536655 0.61250399 0.6051253  0.60831857]\n",
      "1 day output [[0.6105745]]\n",
      "2 day input [0.48563946 0.48492543 0.46540779 0.47040622 0.46516976 0.47516661\n",
      " 0.47611868 0.41423356 0.43113297 0.42994287 0.4294668  0.42589651\n",
      " 0.407331   0.39233579 0.39757218 0.36210726 0.38805139 0.39709619\n",
      " 0.39447796 0.41399553 0.44303395 0.44041572 0.44969848 0.46088543\n",
      " 0.47397651 0.49468425 0.50729927 0.50182484 0.52443671 0.53538556\n",
      " 0.53348143 0.5584735  0.56918438 0.58275153 0.57561094 0.59322431\n",
      " 0.58156144 0.55585527 0.56275782 0.57537291 0.58560773 0.60464937\n",
      " 0.6053634  0.59132018 0.64439854 0.64297048 0.63011736 0.65272923\n",
      " 0.65534754 0.61464608 0.6051253  0.60917166 0.61250399 0.58465566\n",
      " 0.60226918 0.59536655 0.61250399 0.6051253  0.60831857 0.61057448]\n",
      "2 day output [[0.61409754]]\n",
      "3 day input [0.48492543 0.46540779 0.47040622 0.46516976 0.47516661 0.47611868\n",
      " 0.41423356 0.43113297 0.42994287 0.4294668  0.42589651 0.407331\n",
      " 0.39233579 0.39757218 0.36210726 0.38805139 0.39709619 0.39447796\n",
      " 0.41399553 0.44303395 0.44041572 0.44969848 0.46088543 0.47397651\n",
      " 0.49468425 0.50729927 0.50182484 0.52443671 0.53538556 0.53348143\n",
      " 0.5584735  0.56918438 0.58275153 0.57561094 0.59322431 0.58156144\n",
      " 0.55585527 0.56275782 0.57537291 0.58560773 0.60464937 0.6053634\n",
      " 0.59132018 0.64439854 0.64297048 0.63011736 0.65272923 0.65534754\n",
      " 0.61464608 0.6051253  0.60917166 0.61250399 0.58465566 0.60226918\n",
      " 0.59536655 0.61250399 0.6051253  0.60831857 0.61057448 0.61409754]\n",
      "3 day output [[0.6180176]]\n",
      "4 day input [0.46540779 0.47040622 0.46516976 0.47516661 0.47611868 0.41423356\n",
      " 0.43113297 0.42994287 0.4294668  0.42589651 0.407331   0.39233579\n",
      " 0.39757218 0.36210726 0.38805139 0.39709619 0.39447796 0.41399553\n",
      " 0.44303395 0.44041572 0.44969848 0.46088543 0.47397651 0.49468425\n",
      " 0.50729927 0.50182484 0.52443671 0.53538556 0.53348143 0.5584735\n",
      " 0.56918438 0.58275153 0.57561094 0.59322431 0.58156144 0.55585527\n",
      " 0.56275782 0.57537291 0.58560773 0.60464937 0.6053634  0.59132018\n",
      " 0.64439854 0.64297048 0.63011736 0.65272923 0.65534754 0.61464608\n",
      " 0.6051253  0.60917166 0.61250399 0.58465566 0.60226918 0.59536655\n",
      " 0.61250399 0.6051253  0.60831857 0.61057448 0.61409754 0.61801761]\n",
      "4 day output [[0.6220295]]\n",
      "5 day input [0.47040622 0.46516976 0.47516661 0.47611868 0.41423356 0.43113297\n",
      " 0.42994287 0.4294668  0.42589651 0.407331   0.39233579 0.39757218\n",
      " 0.36210726 0.38805139 0.39709619 0.39447796 0.41399553 0.44303395\n",
      " 0.44041572 0.44969848 0.46088543 0.47397651 0.49468425 0.50729927\n",
      " 0.50182484 0.52443671 0.53538556 0.53348143 0.5584735  0.56918438\n",
      " 0.58275153 0.57561094 0.59322431 0.58156144 0.55585527 0.56275782\n",
      " 0.57537291 0.58560773 0.60464937 0.6053634  0.59132018 0.64439854\n",
      " 0.64297048 0.63011736 0.65272923 0.65534754 0.61464608 0.6051253\n",
      " 0.60917166 0.61250399 0.58465566 0.60226918 0.59536655 0.61250399\n",
      " 0.6051253  0.60831857 0.61057448 0.61409754 0.61801761 0.62202948]\n",
      "5 day output [[0.62607986]]\n",
      "6 day input [0.46516976 0.47516661 0.47611868 0.41423356 0.43113297 0.42994287\n",
      " 0.4294668  0.42589651 0.407331   0.39233579 0.39757218 0.36210726\n",
      " 0.38805139 0.39709619 0.39447796 0.41399553 0.44303395 0.44041572\n",
      " 0.44969848 0.46088543 0.47397651 0.49468425 0.50729927 0.50182484\n",
      " 0.52443671 0.53538556 0.53348143 0.5584735  0.56918438 0.58275153\n",
      " 0.57561094 0.59322431 0.58156144 0.55585527 0.56275782 0.57537291\n",
      " 0.58560773 0.60464937 0.6053634  0.59132018 0.64439854 0.64297048\n",
      " 0.63011736 0.65272923 0.65534754 0.61464608 0.6051253  0.60917166\n",
      " 0.61250399 0.58465566 0.60226918 0.59536655 0.61250399 0.6051253\n",
      " 0.60831857 0.61057448 0.61409754 0.61801761 0.62202948 0.62607986]\n",
      "6 day output [[0.63018984]]\n",
      "7 day input [0.47516661 0.47611868 0.41423356 0.43113297 0.42994287 0.4294668\n",
      " 0.42589651 0.407331   0.39233579 0.39757218 0.36210726 0.38805139\n",
      " 0.39709619 0.39447796 0.41399553 0.44303395 0.44041572 0.44969848\n",
      " 0.46088543 0.47397651 0.49468425 0.50729927 0.50182484 0.52443671\n",
      " 0.53538556 0.53348143 0.5584735  0.56918438 0.58275153 0.57561094\n",
      " 0.59322431 0.58156144 0.55585527 0.56275782 0.57537291 0.58560773\n",
      " 0.60464937 0.6053634  0.59132018 0.64439854 0.64297048 0.63011736\n",
      " 0.65272923 0.65534754 0.61464608 0.6051253  0.60917166 0.61250399\n",
      " 0.58465566 0.60226918 0.59536655 0.61250399 0.6051253  0.60831857\n",
      " 0.61057448 0.61409754 0.61801761 0.62202948 0.62607986 0.63018984]\n",
      "7 day output [[0.63436794]]\n",
      "8 day input [0.47611868 0.41423356 0.43113297 0.42994287 0.4294668  0.42589651\n",
      " 0.407331   0.39233579 0.39757218 0.36210726 0.38805139 0.39709619\n",
      " 0.39447796 0.41399553 0.44303395 0.44041572 0.44969848 0.46088543\n",
      " 0.47397651 0.49468425 0.50729927 0.50182484 0.52443671 0.53538556\n",
      " 0.53348143 0.5584735  0.56918438 0.58275153 0.57561094 0.59322431\n",
      " 0.58156144 0.55585527 0.56275782 0.57537291 0.58560773 0.60464937\n",
      " 0.6053634  0.59132018 0.64439854 0.64297048 0.63011736 0.65272923\n",
      " 0.65534754 0.61464608 0.6051253  0.60917166 0.61250399 0.58465566\n",
      " 0.60226918 0.59536655 0.61250399 0.6051253  0.60831857 0.61057448\n",
      " 0.61409754 0.61801761 0.62202948 0.62607986 0.63018984 0.63436794]\n",
      "8 day output [[0.63859475]]\n",
      "9 day input [0.41423356 0.43113297 0.42994287 0.4294668  0.42589651 0.407331\n",
      " 0.39233579 0.39757218 0.36210726 0.38805139 0.39709619 0.39447796\n",
      " 0.41399553 0.44303395 0.44041572 0.44969848 0.46088543 0.47397651\n",
      " 0.49468425 0.50729927 0.50182484 0.52443671 0.53538556 0.53348143\n",
      " 0.5584735  0.56918438 0.58275153 0.57561094 0.59322431 0.58156144\n",
      " 0.55585527 0.56275782 0.57537291 0.58560773 0.60464937 0.6053634\n",
      " 0.59132018 0.64439854 0.64297048 0.63011736 0.65272923 0.65534754\n",
      " 0.61464608 0.6051253  0.60917166 0.61250399 0.58465566 0.60226918\n",
      " 0.59536655 0.61250399 0.6051253  0.60831857 0.61057448 0.61409754\n",
      " 0.61801761 0.62202948 0.62607986 0.63018984 0.63436794 0.63859475]\n",
      "9 day output [[0.64283794]]\n",
      "10 day input [0.43113297 0.42994287 0.4294668  0.42589651 0.407331   0.39233579\n",
      " 0.39757218 0.36210726 0.38805139 0.39709619 0.39447796 0.41399553\n",
      " 0.44303395 0.44041572 0.44969848 0.46088543 0.47397651 0.49468425\n",
      " 0.50729927 0.50182484 0.52443671 0.53538556 0.53348143 0.5584735\n",
      " 0.56918438 0.58275153 0.57561094 0.59322431 0.58156144 0.55585527\n",
      " 0.56275782 0.57537291 0.58560773 0.60464937 0.6053634  0.59132018\n",
      " 0.64439854 0.64297048 0.63011736 0.65272923 0.65534754 0.61464608\n",
      " 0.6051253  0.60917166 0.61250399 0.58465566 0.60226918 0.59536655\n",
      " 0.61250399 0.6051253  0.60831857 0.61057448 0.61409754 0.61801761\n",
      " 0.62202948 0.62607986 0.63018984 0.63436794 0.63859475 0.64283794]\n",
      "10 day output [[0.64706755]]\n",
      "11 day input [0.42994287 0.4294668  0.42589651 0.407331   0.39233579 0.39757218\n",
      " 0.36210726 0.38805139 0.39709619 0.39447796 0.41399553 0.44303395\n",
      " 0.44041572 0.44969848 0.46088543 0.47397651 0.49468425 0.50729927\n",
      " 0.50182484 0.52443671 0.53538556 0.53348143 0.5584735  0.56918438\n",
      " 0.58275153 0.57561094 0.59322431 0.58156144 0.55585527 0.56275782\n",
      " 0.57537291 0.58560773 0.60464937 0.6053634  0.59132018 0.64439854\n",
      " 0.64297048 0.63011736 0.65272923 0.65534754 0.61464608 0.6051253\n",
      " 0.60917166 0.61250399 0.58465566 0.60226918 0.59536655 0.61250399\n",
      " 0.6051253  0.60831857 0.61057448 0.61409754 0.61801761 0.62202948\n",
      " 0.62607986 0.63018984 0.63436794 0.63859475 0.64283794 0.64706755]\n",
      "11 day output [[0.65126044]]\n",
      "12 day input [0.4294668  0.42589651 0.407331   0.39233579 0.39757218 0.36210726\n",
      " 0.38805139 0.39709619 0.39447796 0.41399553 0.44303395 0.44041572\n",
      " 0.44969848 0.46088543 0.47397651 0.49468425 0.50729927 0.50182484\n",
      " 0.52443671 0.53538556 0.53348143 0.5584735  0.56918438 0.58275153\n",
      " 0.57561094 0.59322431 0.58156144 0.55585527 0.56275782 0.57537291\n",
      " 0.58560773 0.60464937 0.6053634  0.59132018 0.64439854 0.64297048\n",
      " 0.63011736 0.65272923 0.65534754 0.61464608 0.6051253  0.60917166\n",
      " 0.61250399 0.58465566 0.60226918 0.59536655 0.61250399 0.6051253\n",
      " 0.60831857 0.61057448 0.61409754 0.61801761 0.62202948 0.62607986\n",
      " 0.63018984 0.63436794 0.63859475 0.64283794 0.64706755 0.65126044]\n",
      "12 day output [[0.6554011]]\n",
      "13 day input [0.42589651 0.407331   0.39233579 0.39757218 0.36210726 0.38805139\n",
      " 0.39709619 0.39447796 0.41399553 0.44303395 0.44041572 0.44969848\n",
      " 0.46088543 0.47397651 0.49468425 0.50729927 0.50182484 0.52443671\n",
      " 0.53538556 0.53348143 0.5584735  0.56918438 0.58275153 0.57561094\n",
      " 0.59322431 0.58156144 0.55585527 0.56275782 0.57537291 0.58560773\n",
      " 0.60464937 0.6053634  0.59132018 0.64439854 0.64297048 0.63011736\n",
      " 0.65272923 0.65534754 0.61464608 0.6051253  0.60917166 0.61250399\n",
      " 0.58465566 0.60226918 0.59536655 0.61250399 0.6051253  0.60831857\n",
      " 0.61057448 0.61409754 0.61801761 0.62202948 0.62607986 0.63018984\n",
      " 0.63436794 0.63859475 0.64283794 0.64706755 0.65126044 0.65540111]\n",
      "13 day output [[0.65947926]]\n",
      "14 day input [0.407331   0.39233579 0.39757218 0.36210726 0.38805139 0.39709619\n",
      " 0.39447796 0.41399553 0.44303395 0.44041572 0.44969848 0.46088543\n",
      " 0.47397651 0.49468425 0.50729927 0.50182484 0.52443671 0.53538556\n",
      " 0.53348143 0.5584735  0.56918438 0.58275153 0.57561094 0.59322431\n",
      " 0.58156144 0.55585527 0.56275782 0.57537291 0.58560773 0.60464937\n",
      " 0.6053634  0.59132018 0.64439854 0.64297048 0.63011736 0.65272923\n",
      " 0.65534754 0.61464608 0.6051253  0.60917166 0.61250399 0.58465566\n",
      " 0.60226918 0.59536655 0.61250399 0.6051253  0.60831857 0.61057448\n",
      " 0.61409754 0.61801761 0.62202948 0.62607986 0.63018984 0.63436794\n",
      " 0.63859475 0.64283794 0.64706755 0.65126044 0.65540111 0.65947926]\n",
      "14 day output [[0.6634879]]\n",
      "15 day input [0.39233579 0.39757218 0.36210726 0.38805139 0.39709619 0.39447796\n",
      " 0.41399553 0.44303395 0.44041572 0.44969848 0.46088543 0.47397651\n",
      " 0.49468425 0.50729927 0.50182484 0.52443671 0.53538556 0.53348143\n",
      " 0.5584735  0.56918438 0.58275153 0.57561094 0.59322431 0.58156144\n",
      " 0.55585527 0.56275782 0.57537291 0.58560773 0.60464937 0.6053634\n",
      " 0.59132018 0.64439854 0.64297048 0.63011736 0.65272923 0.65534754\n",
      " 0.61464608 0.6051253  0.60917166 0.61250399 0.58465566 0.60226918\n",
      " 0.59536655 0.61250399 0.6051253  0.60831857 0.61057448 0.61409754\n",
      " 0.61801761 0.62202948 0.62607986 0.63018984 0.63436794 0.63859475\n"
     ]
    },
    {
     "name": "stdout",
     "output_type": "stream",
     "text": [
      " 0.64283794 0.64706755 0.65126044 0.65540111 0.65947926 0.66348791]\n",
      "15 day output [[0.66742253]]\n",
      "16 day input [0.39757218 0.36210726 0.38805139 0.39709619 0.39447796 0.41399553\n",
      " 0.44303395 0.44041572 0.44969848 0.46088543 0.47397651 0.49468425\n",
      " 0.50729927 0.50182484 0.52443671 0.53538556 0.53348143 0.5584735\n",
      " 0.56918438 0.58275153 0.57561094 0.59322431 0.58156144 0.55585527\n",
      " 0.56275782 0.57537291 0.58560773 0.60464937 0.6053634  0.59132018\n",
      " 0.64439854 0.64297048 0.63011736 0.65272923 0.65534754 0.61464608\n",
      " 0.6051253  0.60917166 0.61250399 0.58465566 0.60226918 0.59536655\n",
      " 0.61250399 0.6051253  0.60831857 0.61057448 0.61409754 0.61801761\n",
      " 0.62202948 0.62607986 0.63018984 0.63436794 0.63859475 0.64283794\n",
      " 0.64706755 0.65126044 0.65540111 0.65947926 0.66348791 0.66742253]\n",
      "16 day output [[0.67128086]]\n",
      "17 day input [0.36210726 0.38805139 0.39709619 0.39447796 0.41399553 0.44303395\n",
      " 0.44041572 0.44969848 0.46088543 0.47397651 0.49468425 0.50729927\n",
      " 0.50182484 0.52443671 0.53538556 0.53348143 0.5584735  0.56918438\n",
      " 0.58275153 0.57561094 0.59322431 0.58156144 0.55585527 0.56275782\n",
      " 0.57537291 0.58560773 0.60464937 0.6053634  0.59132018 0.64439854\n",
      " 0.64297048 0.63011736 0.65272923 0.65534754 0.61464608 0.6051253\n",
      " 0.60917166 0.61250399 0.58465566 0.60226918 0.59536655 0.61250399\n",
      " 0.6051253  0.60831857 0.61057448 0.61409754 0.61801761 0.62202948\n",
      " 0.62607986 0.63018984 0.63436794 0.63859475 0.64283794 0.64706755\n",
      " 0.65126044 0.65540111 0.65947926 0.66348791 0.66742253 0.67128086]\n",
      "17 day output [[0.67506164]]\n",
      "18 day input [0.38805139 0.39709619 0.39447796 0.41399553 0.44303395 0.44041572\n",
      " 0.44969848 0.46088543 0.47397651 0.49468425 0.50729927 0.50182484\n",
      " 0.52443671 0.53538556 0.53348143 0.5584735  0.56918438 0.58275153\n",
      " 0.57561094 0.59322431 0.58156144 0.55585527 0.56275782 0.57537291\n",
      " 0.58560773 0.60464937 0.6053634  0.59132018 0.64439854 0.64297048\n",
      " 0.63011736 0.65272923 0.65534754 0.61464608 0.6051253  0.60917166\n",
      " 0.61250399 0.58465566 0.60226918 0.59536655 0.61250399 0.6051253\n",
      " 0.60831857 0.61057448 0.61409754 0.61801761 0.62202948 0.62607986\n",
      " 0.63018984 0.63436794 0.63859475 0.64283794 0.64706755 0.65126044\n",
      " 0.65540111 0.65947926 0.66348791 0.66742253 0.67128086 0.67506164]\n",
      "18 day output [[0.678766]]\n",
      "19 day input [0.39709619 0.39447796 0.41399553 0.44303395 0.44041572 0.44969848\n",
      " 0.46088543 0.47397651 0.49468425 0.50729927 0.50182484 0.52443671\n",
      " 0.53538556 0.53348143 0.5584735  0.56918438 0.58275153 0.57561094\n",
      " 0.59322431 0.58156144 0.55585527 0.56275782 0.57537291 0.58560773\n",
      " 0.60464937 0.6053634  0.59132018 0.64439854 0.64297048 0.63011736\n",
      " 0.65272923 0.65534754 0.61464608 0.6051253  0.60917166 0.61250399\n",
      " 0.58465566 0.60226918 0.59536655 0.61250399 0.6051253  0.60831857\n",
      " 0.61057448 0.61409754 0.61801761 0.62202948 0.62607986 0.63018984\n",
      " 0.63436794 0.63859475 0.64283794 0.64706755 0.65126044 0.65540111\n",
      " 0.65947926 0.66348791 0.66742253 0.67128086 0.67506164 0.67876601]\n",
      "19 day output [[0.68239576]]\n",
      "20 day input [0.39447796 0.41399553 0.44303395 0.44041572 0.44969848 0.46088543\n",
      " 0.47397651 0.49468425 0.50729927 0.50182484 0.52443671 0.53538556\n",
      " 0.53348143 0.5584735  0.56918438 0.58275153 0.57561094 0.59322431\n",
      " 0.58156144 0.55585527 0.56275782 0.57537291 0.58560773 0.60464937\n",
      " 0.6053634  0.59132018 0.64439854 0.64297048 0.63011736 0.65272923\n",
      " 0.65534754 0.61464608 0.6051253  0.60917166 0.61250399 0.58465566\n",
      " 0.60226918 0.59536655 0.61250399 0.6051253  0.60831857 0.61057448\n",
      " 0.61409754 0.61801761 0.62202948 0.62607986 0.63018984 0.63436794\n",
      " 0.63859475 0.64283794 0.64706755 0.65126044 0.65540111 0.65947926\n",
      " 0.66348791 0.66742253 0.67128086 0.67506164 0.67876601 0.68239576]\n",
      "20 day output [[0.6859535]]\n",
      "21 day input [0.41399553 0.44303395 0.44041572 0.44969848 0.46088543 0.47397651\n",
      " 0.49468425 0.50729927 0.50182484 0.52443671 0.53538556 0.53348143\n",
      " 0.5584735  0.56918438 0.58275153 0.57561094 0.59322431 0.58156144\n",
      " 0.55585527 0.56275782 0.57537291 0.58560773 0.60464937 0.6053634\n",
      " 0.59132018 0.64439854 0.64297048 0.63011736 0.65272923 0.65534754\n",
      " 0.61464608 0.6051253  0.60917166 0.61250399 0.58465566 0.60226918\n",
      " 0.59536655 0.61250399 0.6051253  0.60831857 0.61057448 0.61409754\n",
      " 0.61801761 0.62202948 0.62607986 0.63018984 0.63436794 0.63859475\n",
      " 0.64283794 0.64706755 0.65126044 0.65540111 0.65947926 0.66348791\n",
      " 0.66742253 0.67128086 0.67506164 0.67876601 0.68239576 0.6859535 ]\n",
      "21 day output [[0.689443]]\n",
      "22 day input [0.44303395 0.44041572 0.44969848 0.46088543 0.47397651 0.49468425\n",
      " 0.50729927 0.50182484 0.52443671 0.53538556 0.53348143 0.5584735\n",
      " 0.56918438 0.58275153 0.57561094 0.59322431 0.58156144 0.55585527\n",
      " 0.56275782 0.57537291 0.58560773 0.60464937 0.6053634  0.59132018\n",
      " 0.64439854 0.64297048 0.63011736 0.65272923 0.65534754 0.61464608\n",
      " 0.6051253  0.60917166 0.61250399 0.58465566 0.60226918 0.59536655\n",
      " 0.61250399 0.6051253  0.60831857 0.61057448 0.61409754 0.61801761\n",
      " 0.62202948 0.62607986 0.63018984 0.63436794 0.63859475 0.64283794\n",
      " 0.64706755 0.65126044 0.65540111 0.65947926 0.66348791 0.66742253\n",
      " 0.67128086 0.67506164 0.67876601 0.68239576 0.6859535  0.68944299]\n",
      "22 day output [[0.69286835]]\n",
      "23 day input [0.44041572 0.44969848 0.46088543 0.47397651 0.49468425 0.50729927\n",
      " 0.50182484 0.52443671 0.53538556 0.53348143 0.5584735  0.56918438\n",
      " 0.58275153 0.57561094 0.59322431 0.58156144 0.55585527 0.56275782\n",
      " 0.57537291 0.58560773 0.60464937 0.6053634  0.59132018 0.64439854\n",
      " 0.64297048 0.63011736 0.65272923 0.65534754 0.61464608 0.6051253\n",
      " 0.60917166 0.61250399 0.58465566 0.60226918 0.59536655 0.61250399\n",
      " 0.6051253  0.60831857 0.61057448 0.61409754 0.61801761 0.62202948\n",
      " 0.62607986 0.63018984 0.63436794 0.63859475 0.64283794 0.64706755\n",
      " 0.65126044 0.65540111 0.65947926 0.66348791 0.66742253 0.67128086\n",
      " 0.67506164 0.67876601 0.68239576 0.6859535  0.68944299 0.69286835]\n",
      "23 day output [[0.69623375]]\n",
      "24 day input [0.44969848 0.46088543 0.47397651 0.49468425 0.50729927 0.50182484\n",
      " 0.52443671 0.53538556 0.53348143 0.5584735  0.56918438 0.58275153\n",
      " 0.57561094 0.59322431 0.58156144 0.55585527 0.56275782 0.57537291\n",
      " 0.58560773 0.60464937 0.6053634  0.59132018 0.64439854 0.64297048\n",
      " 0.63011736 0.65272923 0.65534754 0.61464608 0.6051253  0.60917166\n",
      " 0.61250399 0.58465566 0.60226918 0.59536655 0.61250399 0.6051253\n",
      " 0.60831857 0.61057448 0.61409754 0.61801761 0.62202948 0.62607986\n",
      " 0.63018984 0.63436794 0.63859475 0.64283794 0.64706755 0.65126044\n",
      " 0.65540111 0.65947926 0.66348791 0.66742253 0.67128086 0.67506164\n",
      " 0.67876601 0.68239576 0.6859535  0.68944299 0.69286835 0.69623375]\n",
      "24 day output [[0.699544]]\n",
      "25 day input [0.46088543 0.47397651 0.49468425 0.50729927 0.50182484 0.52443671\n",
      " 0.53538556 0.53348143 0.5584735  0.56918438 0.58275153 0.57561094\n",
      " 0.59322431 0.58156144 0.55585527 0.56275782 0.57537291 0.58560773\n",
      " 0.60464937 0.6053634  0.59132018 0.64439854 0.64297048 0.63011736\n",
      " 0.65272923 0.65534754 0.61464608 0.6051253  0.60917166 0.61250399\n",
      " 0.58465566 0.60226918 0.59536655 0.61250399 0.6051253  0.60831857\n",
      " 0.61057448 0.61409754 0.61801761 0.62202948 0.62607986 0.63018984\n",
      " 0.63436794 0.63859475 0.64283794 0.64706755 0.65126044 0.65540111\n",
      " 0.65947926 0.66348791 0.66742253 0.67128086 0.67506164 0.67876601\n",
      " 0.68239576 0.6859535  0.68944299 0.69286835 0.69623375 0.69954401]\n",
      "25 day output [[0.7028038]]\n",
      "26 day input [0.47397651 0.49468425 0.50729927 0.50182484 0.52443671 0.53538556\n",
      " 0.53348143 0.5584735  0.56918438 0.58275153 0.57561094 0.59322431\n",
      " 0.58156144 0.55585527 0.56275782 0.57537291 0.58560773 0.60464937\n",
      " 0.6053634  0.59132018 0.64439854 0.64297048 0.63011736 0.65272923\n",
      " 0.65534754 0.61464608 0.6051253  0.60917166 0.61250399 0.58465566\n",
      " 0.60226918 0.59536655 0.61250399 0.6051253  0.60831857 0.61057448\n",
      " 0.61409754 0.61801761 0.62202948 0.62607986 0.63018984 0.63436794\n",
      " 0.63859475 0.64283794 0.64706755 0.65126044 0.65540111 0.65947926\n",
      " 0.66348791 0.66742253 0.67128086 0.67506164 0.67876601 0.68239576\n",
      " 0.6859535  0.68944299 0.69286835 0.69623375 0.69954401 0.70280379]\n",
      "26 day output [[0.7060176]]\n",
      "27 day input [0.49468425 0.50729927 0.50182484 0.52443671 0.53538556 0.53348143\n",
      " 0.5584735  0.56918438 0.58275153 0.57561094 0.59322431 0.58156144\n",
      " 0.55585527 0.56275782 0.57537291 0.58560773 0.60464937 0.6053634\n",
      " 0.59132018 0.64439854 0.64297048 0.63011736 0.65272923 0.65534754\n",
      " 0.61464608 0.6051253  0.60917166 0.61250399 0.58465566 0.60226918\n",
      " 0.59536655 0.61250399 0.6051253  0.60831857 0.61057448 0.61409754\n",
      " 0.61801761 0.62202948 0.62607986 0.63018984 0.63436794 0.63859475\n",
      " 0.64283794 0.64706755 0.65126044 0.65540111 0.65947926 0.66348791\n",
      " 0.66742253 0.67128086 0.67506164 0.67876601 0.68239576 0.6859535\n",
      " 0.68944299 0.69286835 0.69623375 0.69954401 0.70280379 0.70601761]\n",
      "27 day output [[0.70919]]\n",
      "28 day input [0.50729927 0.50182484 0.52443671 0.53538556 0.53348143 0.5584735\n",
      " 0.56918438 0.58275153 0.57561094 0.59322431 0.58156144 0.55585527\n",
      " 0.56275782 0.57537291 0.58560773 0.60464937 0.6053634  0.59132018\n",
      " 0.64439854 0.64297048 0.63011736 0.65272923 0.65534754 0.61464608\n",
      " 0.6051253  0.60917166 0.61250399 0.58465566 0.60226918 0.59536655\n",
      " 0.61250399 0.6051253  0.60831857 0.61057448 0.61409754 0.61801761\n",
      " 0.62202948 0.62607986 0.63018984 0.63436794 0.63859475 0.64283794\n",
      " 0.64706755 0.65126044 0.65540111 0.65947926 0.66348791 0.66742253\n",
      " 0.67128086 0.67506164 0.67876601 0.68239576 0.6859535  0.68944299\n",
      " 0.69286835 0.69623375 0.69954401 0.70280379 0.70601761 0.70919001]\n",
      "28 day output [[0.71232486]]\n",
      "29 day input [0.50182484 0.52443671 0.53538556 0.53348143 0.5584735  0.56918438\n",
      " 0.58275153 0.57561094 0.59322431 0.58156144 0.55585527 0.56275782\n",
      " 0.57537291 0.58560773 0.60464937 0.6053634  0.59132018 0.64439854\n",
      " 0.64297048 0.63011736 0.65272923 0.65534754 0.61464608 0.6051253\n",
      " 0.60917166 0.61250399 0.58465566 0.60226918 0.59536655 0.61250399\n",
      " 0.6051253  0.60831857 0.61057448 0.61409754 0.61801761 0.62202948\n",
      " 0.62607986 0.63018984 0.63436794 0.63859475 0.64283794 0.64706755\n",
      " 0.65126044 0.65540111 0.65947926 0.66348791 0.66742253 0.67128086\n",
      " 0.67506164 0.67876601 0.68239576 0.6859535  0.68944299 0.69286835\n",
      " 0.69623375 0.69954401 0.70280379 0.70601761 0.70919001 0.71232486]\n",
      "29 day output [[0.7154257]]\n",
      "[[0.608318567276001], [0.61057448387146], [0.614097535610199], [0.6180176138877869], [0.6220294833183289], [0.6260798573493958], [0.630189836025238], [0.6343679428100586], [0.6385947465896606], [0.6428379416465759], [0.6470675468444824], [0.6512604355812073], [0.6554011106491089], [0.6594792604446411], [0.6634879112243652], [0.6674225330352783], [0.6712808609008789], [0.6750616431236267], [0.6787660121917725], [0.6823957562446594], [0.6859534978866577], [0.6894429922103882], [0.6928683519363403], [0.6962337493896484], [0.6995440125465393], [0.7028037905693054], [0.7060176134109497], [0.7091900110244751], [0.712324857711792], [0.7154257297515869]]\n"
     ]
    }
   ],
   "source": [
    "# demonstrate prediction for next 10 days\n",
    "from numpy import array\n",
    "\n",
    "lst_output=[]\n",
    "n_steps=60\n",
    "i=0\n",
    "while(i<30):\n",
    "    \n",
    "    if(len(temp_input)>60):\n",
    "        #print(temp_input)\n",
    "        x_input=np.array(temp_input[1:])\n",
    "        print(\"{} day input {}\".format(i,x_input))\n",
    "        x_input=x_input.reshape(1,-1)\n",
    "        x_input = x_input.reshape((1, n_steps, 1))\n",
    "        #print(x_input)\n",
    "        yhat = model.predict(x_input, verbose=0)\n",
    "        print(\"{} day output {}\".format(i,yhat))\n",
    "        temp_input.extend(yhat[0].tolist())\n",
    "        temp_input=temp_input[1:]\n",
    "        #print(temp_input)\n",
    "        lst_output.extend(yhat.tolist())\n",
    "        i=i+1\n",
    "    else:\n",
    "        x_input = x_input.reshape((1, n_steps,1))\n",
    "        yhat = model.predict(x_input, verbose=0)\n",
    "        print(yhat[0])\n",
    "        temp_input.extend(yhat[0].tolist())\n",
    "        print(len(temp_input))\n",
    "        lst_output.extend(yhat.tolist())\n",
    "        i=i+1\n",
    "    \n",
    "\n",
    "print(lst_output)"
   ]
  },
  {
   "cell_type": "code",
   "execution_count": 221,
   "metadata": {},
   "outputs": [],
   "source": [
    "day_new=np.arange(1,101)\n",
    "day_pred=np.arange(101,131)"
   ]
  },
  {
   "cell_type": "code",
   "execution_count": 222,
   "metadata": {},
   "outputs": [],
   "source": [
    "import matplotlib.pyplot as plt"
   ]
  },
  {
   "cell_type": "code",
   "execution_count": 223,
   "metadata": {},
   "outputs": [
    {
     "data": {
      "text/plain": [
       "2545"
      ]
     },
     "execution_count": 223,
     "metadata": {},
     "output_type": "execute_result"
    }
   ],
   "source": [
    "len(df1)"
   ]
  },
  {
   "cell_type": "code",
   "execution_count": null,
   "metadata": {},
   "outputs": [],
   "source": []
  },
  {
   "cell_type": "code",
   "execution_count": 224,
   "metadata": {},
   "outputs": [
    {
     "data": {
      "text/plain": [
       "[<matplotlib.lines.Line2D at 0x1b8d99d2910>]"
      ]
     },
     "execution_count": 224,
     "metadata": {},
     "output_type": "execute_result"
    },
    {
     "data": {
      "image/png": "[encoded data removed]",
      "text/plain": [
       "<Figure size 432x288 with 1 Axes>"
      ]
     },
     "metadata": {
      "needs_background": "light"
     },
     "output_type": "display_data"
    }
   ],
   "source": [
    "plt.plot(day_new,scaler.inverse_transform(df1[2445:]))\n",
    "plt.plot(day_pred,scaler.inverse_transform(lst_output))"
   ]
  },
  {
   "cell_type": "code",
   "execution_count": 225,
   "metadata": {},
   "outputs": [
    {
     "data": {
      "text/plain": [
       "[<matplotlib.lines.Line2D at 0x1b8d99596d0>]"
      ]
     },
     "execution_count": 225,
     "metadata": {},
     "output_type": "execute_result"
    },
    {
     "data": {
      "image/png": "[encoded data removed]",
      "text/plain": [
       "<Figure size 432x288 with 1 Axes>"
      ]
     },
     "metadata": {
      "needs_background": "light"
     },
     "output_type": "display_data"
    }
   ],
   "source": [
    "df3=df1.tolist()\n",
    "df3.extend(lst_output)\n",
    "plt.plot(df3[1200:])"
   ]
  },
  {
   "cell_type": "markdown",
   "metadata": {},
   "source": [
    "df3=scaler.inverse_transform(df3).tolist()"
   ]
  },
  {
   "cell_type": "code",
   "execution_count": 138,
   "metadata": {},
   "outputs": [
    {
     "data": {
      "text/plain": [
       "[<matplotlib.lines.Line2D at 0x1b8c3a4b850>]"
      ]
     },
     "execution_count": 138,
     "metadata": {},
     "output_type": "execute_result"
    },
    {
     "data": {
      "image/png": "[encoded data removed]",
      "text/plain": [
       "<Figure size 432x288 with 1 Axes>"
      ]
     },
     "metadata": {
      "needs_background": "light"
     },
     "output_type": "display_data"
    }
   ],
   "source": [
    "plt.plot(df3)"
   ]
  },
  {
   "cell_type": "code",
   "execution_count": 92,
   "metadata": {},
   "outputs": [],
   "source": [
    "model.save('itc.h5')"
   ]
  },
  {
   "cell_type": "code",
   "execution_count": null,
   "metadata": {},
   "outputs": [],
   "source": []
  }
 ],
 "metadata": {
  "kernelspec": {
   "display_name": "Python 3",
   "language": "python",
   "name": "python3"
  },
  "language_info": {
   "codemirror_mode": {
    "name": "ipython",
    "version": 3
   },
   "file_extension": ".py",
   "mimetype": "text/x-python",
   "name": "python",
   "nbconvert_exporter": "python",
   "pygments_lexer": "ipython3",
   "version": "3.9.1"
  }
 },
 "nbformat": 4,
 "nbformat_minor": 2
}
